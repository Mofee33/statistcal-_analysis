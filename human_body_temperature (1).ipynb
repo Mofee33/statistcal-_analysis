{
 "cells": [
  {
   "cell_type": "markdown",
   "metadata": {},
   "source": [
    "# What is the True Normal Human Body Temperature? \n",
    "\n",
    "#### Background\n",
    "\n",
    "The mean normal body temperature was held to be 37$^{\\circ}$C or 98.6$^{\\circ}$F for more than 120 years since it was first conceptualized and reported by Carl Wunderlich in a famous 1868 book. But, is this value statistically correct?"
   ]
  },
  {
   "cell_type": "markdown",
   "metadata": {},
   "source": [
    "<h3>Exercises</h3>\n",
    "\n",
    "<p>In this exercise, you will analyze a dataset of human body temperatures and employ the concepts of hypothesis testing, confidence intervals, and statistical significance.</p>\n",
    "\n",
    "<p>Answer the following questions <b>in this notebook below and submit to your Github account</b>.</p> \n",
    "\n",
    "<ol>\n",
    "<li>  Is the distribution of body temperatures normal? \n",
    "    <ul>\n",
    "    <li> Although this is not a requirement for the Central Limit Theorem to hold (read the introduction on Wikipedia's page about the CLT carefully: https://en.wikipedia.org/wiki/Central_limit_theorem), it gives us some peace of mind that the population may also be normally distributed if we assume that this sample is representative of the population.\n",
    "    <li> Think about the way you're going to check for the normality of the distribution. Graphical methods are usually used first, but there are also other ways: https://en.wikipedia.org/wiki/Normality_test\n",
    "    </ul>\n",
    "<li>  Is the sample size large? Are the observations independent?\n",
    "    <ul>\n",
    "    <li> Remember that this is a condition for the Central Limit Theorem, and hence the statistical tests we are using, to apply.\n",
    "    </ul>\n",
    "<li>  Is the true population mean really 98.6 degrees F?\n",
    "    <ul>\n",
    "    <li> First, try a bootstrap hypothesis test.\n",
    "    <li> Now, let's try frequentist statistical testing. Would you use a one-sample or two-sample test? Why?\n",
    "    <li> In this situation, is it appropriate to use the $t$ or $z$ statistic? \n",
    "    <li> Now try using the other test. How is the result be different? Why?\n",
    "    </ul>\n",
    "<li>  Draw a small sample of size 10 from the data and repeat both frequentist tests. \n",
    "    <ul>\n",
    "    <li> Which one is the correct one to use? \n",
    "    <li> What do you notice? What does this tell you about the difference in application of the $t$ and $z$ statistic?\n",
    "    </ul>\n",
    "<li>  At what temperature should we consider someone's temperature to be \"abnormal\"?\n",
    "    <ul>\n",
    "    <li> As in the previous example, try calculating everything using the boostrap approach, as well as the frequentist approach.\n",
    "    <li> Start by computing the margin of error and confidence interval. When calculating the confidence interval, keep in mind that you should use the appropriate formula for one draw, and not N draws.\n",
    "    </ul>\n",
    "<li>  Is there a significant difference between males and females in normal temperature?\n",
    "    <ul>\n",
    "    <li> What testing approach did you use and why?\n",
    "    <li> Write a story with your conclusion in the context of the original problem.\n",
    "    </ul>\n",
    "</ol>\n",
    "\n",
    "You can include written notes in notebook cells using Markdown: \n",
    "   - In the control panel at the top, choose Cell > Cell Type > Markdown\n",
    "   - Markdown syntax: http://nestacms.com/docs/creating-content/markdown-cheat-sheet\n",
    "\n",
    "#### Resources\n",
    "\n",
    "+ Information and data sources: http://www.amstat.org/publications/jse/datasets/normtemp.txt, http://www.amstat.org/publications/jse/jse_data_archive.htm\n",
    "+ Markdown syntax: http://nestacms.com/docs/creating-content/markdown-cheat-sheet\n",
    "\n",
    "****"
   ]
  },
  {
   "cell_type": "code",
   "execution_count": 1,
   "metadata": {},
   "outputs": [],
   "source": [
    "import pandas as pd\n",
    "import matplotlib.pyplot as plt\n",
    "import numpy as np\n",
    "import seaborn as sns\n",
    "df = pd.read_csv('human_body_temperature.csv')"
   ]
  },
  {
   "cell_type": "markdown",
   "metadata": {},
   "source": [
    "## 1. Is the distribution of body temperatures normal?"
   ]
  },
  {
   "cell_type": "code",
   "execution_count": 40,
   "metadata": {},
   "outputs": [
    {
     "data": {
      "text/plain": [
       "Text(0.5, 1.0, 'Human Body Temperature')"
      ]
     },
     "execution_count": 40,
     "metadata": {},
     "output_type": "execute_result"
    },
    {
     "data": {
      "image/png": "[encoded data removed]",
      "text/plain": [
       "<Figure size 432x288 with 1 Axes>"
      ]
     },
     "metadata": {
      "needs_background": "light"
     },
     "output_type": "display_data"
    }
   ],
   "source": [
    "plt.hist(df['temperature'],bins = 20,density = 'True')\n",
    "plt.xlabel('Temperature(F)')\n",
    "plt.ylabel('Count')\n",
    "plt.title('Human Body Temperature')"
   ]
  },
  {
   "cell_type": "code",
   "execution_count": 3,
   "metadata": {},
   "outputs": [
    {
     "data": {
      "image/png": "[encoded data removed]",
      "text/plain": [
       "<Figure size 432x288 with 1 Axes>"
      ]
     },
     "metadata": {
      "needs_background": "light"
     },
     "output_type": "display_data"
    }
   ],
   "source": [
    "import statsmodels.api as sm\n",
    "import pylab\n",
    "sm.qqplot(df['temperature'], line='s')\n",
    "pylab.show()"
   ]
  },
  {
   "cell_type": "markdown",
   "metadata": {},
   "source": [
    "As we can see from the both the histogram and qqplot, the oberservations are normally distributed."
   ]
  },
  {
   "cell_type": "markdown",
   "metadata": {},
   "source": [
    "## 2. Is the sample size large? Are the observations independent?"
   ]
  },
  {
   "cell_type": "code",
   "execution_count": 5,
   "metadata": {
    "scrolled": true
   },
   "outputs": [
    {
     "name": "stdout",
     "output_type": "stream",
     "text": [
      "total_observation: 130\n",
      "        temperature  heart_rate\n",
      "gender                         \n",
      "F                65          65\n",
      "M                65          65\n"
     ]
    }
   ],
   "source": [
    "gender_count  = df.groupby('gender').count()\n",
    "print('total_observation: '+ str(len(df)))\n",
    "print(gender_count)\n",
    "# The total obervation is 130, which is larger than 30."
   ]
  },
  {
   "cell_type": "markdown",
   "metadata": {},
   "source": [
    "The total obervation is 130 and is evenly break down by gender, which meet the Central Limit Theorem(sample size >30).  So the sample size is large enough and the observation is independent.\n",
    "\n"
   ]
  },
  {
   "cell_type": "markdown",
   "metadata": {},
   "source": [
    "## 3. Is the true population mean really 98.6 degrees F?"
   ]
  },
  {
   "cell_type": "markdown",
   "metadata": {},
   "source": [
    "First, let's run the bootstrap hypothesis test:</p>\n",
    "H0: The true population mean is 98.6°F.</p>  \n",
    "Ha: The true population mean is NOT 98.6°F."
   ]
  },
  {
   "cell_type": "code",
   "execution_count": 6,
   "metadata": {},
   "outputs": [
    {
     "name": "stdout",
     "output_type": "stream",
     "text": [
      "p: 0.0\n"
     ]
    }
   ],
   "source": [
    "temperature = df['temperature']\n",
    "bootstrap_replicates = np.empty(10000)\n",
    "for i in range(10000):\n",
    "    bootstrap_sample = np.random.choice(temperature, size = len(df))\n",
    "    bootstrap_replicates[i] = np.mean(bootstrap_sample)\n",
    "p = np.sum(bootstrap_replicates >= 98.6) / 10000\n",
    "print(\"p: \" + str(p))\n"
   ]
  },
  {
   "cell_type": "markdown",
   "metadata": {},
   "source": [
    "The p-value is 0.0, which is smaller than 0.05. Statistically, we have to reject H0. So, the true population mean is not 98.6°F."
   ]
  },
  {
   "cell_type": "markdown",
   "metadata": {},
   "source": [
    "Then is the Z test:"
   ]
  },
  {
   "cell_type": "code",
   "execution_count": 7,
   "metadata": {},
   "outputs": [
    {
     "name": "stdout",
     "output_type": "stream",
     "text": [
      "98.12367980442819 98.37478173403336\n"
     ]
    }
   ],
   "source": [
    "mean = np.mean(temperature)\n",
    "std = np.std(temperature)\n",
    "#z score is 1.96 under 95% confidence interval\n",
    "confidence_interval = std*1.96/(len(temperature) ** 0.5)\n",
    "#print(confidence_interval, mean)\n",
    "print(mean - confidence_interval, mean + confidence_interval)"
   ]
  },
  {
   "cell_type": "markdown",
   "metadata": {},
   "source": [
    "The Z test shows that under 95% confidence interval, the true mean lies between 98.124 and 98.375, which 98.6 is an outlier. So 98.6 is not the true mean."
   ]
  },
  {
   "cell_type": "markdown",
   "metadata": {},
   "source": [
    "Finally, let's run the T test:</p>\n",
    "H0: The true population mean is 98.6°F.</p>  \n",
    "Ha: The true population mean is NOT 98.6°F."
   ]
  },
  {
   "cell_type": "code",
   "execution_count": 8,
   "metadata": {},
   "outputs": [
    {
     "name": "stdout",
     "output_type": "stream",
     "text": [
      "t: -5.4548232923645195 P-value: 2.4106320415561276e-07\n"
     ]
    }
   ],
   "source": [
    "from scipy.stats import ttest_1samp\n",
    "t,p = ttest_1samp(temperature,98.6)\n",
    "print('t: ' + str(t), 'P-value: ' + str(p))"
   ]
  },
  {
   "cell_type": "markdown",
   "metadata": {},
   "source": [
    "The p value is smaller than 0.05, so we have to reject H0. The true mean is not 98.6."
   ]
  },
  {
   "cell_type": "markdown",
   "metadata": {},
   "source": [
    "## 4. Draw a small sample of size 10 from the data and repeat both frequentist tests."
   ]
  },
  {
   "cell_type": "code",
   "execution_count": 44,
   "metadata": {},
   "outputs": [
    {
     "name": "stdout",
     "output_type": "stream",
     "text": [
      "[97.6 98.7 97.6 98.7 99.  98.4 98.  98.4 98.2 97.2]\n"
     ]
    }
   ],
   "source": [
    "temperature_10 = np.random.choice(temperature, size = 10)\n",
    "print(temperature_10)"
   ]
  },
  {
   "cell_type": "code",
   "execution_count": 45,
   "metadata": {},
   "outputs": [
    {
     "name": "stdout",
     "output_type": "stream",
     "text": [
      "97.84187869632336 98.51812130367668\n"
     ]
    }
   ],
   "source": [
    "mean_10 = np.mean(temperature_10)\n",
    "std_10 = np.std(temperature_10)\n",
    "confidence_itv = std_10*1.96/(len(temperature_10) ** 0.5)\n",
    "print(mean_10 - confidence_itv, mean_10 + confidence_itv)"
   ]
  },
  {
   "cell_type": "code",
   "execution_count": 10,
   "metadata": {},
   "outputs": [
    {
     "name": "stdout",
     "output_type": "stream",
     "text": [
      "98.22186540339075 99.31813459660927\n"
     ]
    }
   ],
   "source": [
    "#z score is 1.96 under 95% confidence interval\n",
    "confidence_itv = std_10*1.96/(len(temperature_10) ** 0.5)\n",
    "#print(confidence_interval, mean)\n",
    "print(mean_10 - confidence_itv, mean_10 + confidence_itv)"
   ]
  },
  {
   "cell_type": "code",
   "execution_count": 49,
   "metadata": {},
   "outputs": [
    {
     "name": "stdout",
     "output_type": "stream",
     "text": [
      "t: -2.3096920615861607 P-value: 0.04625981064987782\n"
     ]
    }
   ],
   "source": [
    "t,t_p = ttest_1samp(temperature_10,98.6)\n",
    "print('t: ' + str(t), 'P-value: ' + str(t_p))"
   ]
  },
  {
   "cell_type": "code",
   "execution_count": 48,
   "metadata": {},
   "outputs": [
    {
     "name": "stdout",
     "output_type": "stream",
     "text": [
      "z: 0.5766855018198974 P-value: 0.014907056844849186\n"
     ]
    }
   ],
   "source": [
    "z = (mean_10 - 98.6)/(std_10/np.sqrt(len(temperature_10)))\n",
    "z_p= stats.norm.sf(abs(z))*2 \n",
    "print('z: ' + str(t), 'P-value: ' + str(z_p))"
   ]
  },
  {
   "cell_type": "markdown",
   "metadata": {},
   "source": [
    "P values for both tests are smaller than 0.05, meaning that 98.6 is not the true mean temperature. \n",
    "However, the p values from z test and t test varied from each other and also changed each time as the random selected 10 numbers changed. Generally, for a dataset with sample smaller than 30, it is more wise to run t-test."
   ]
  },
  {
   "cell_type": "markdown",
   "metadata": {},
   "source": [
    "## 5. At what temperature should we consider someone's temperature to be \"abnormal\"?"
   ]
  },
  {
   "cell_type": "code",
   "execution_count": 33,
   "metadata": {},
   "outputs": [
    {
     "name": "stdout",
     "output_type": "stream",
     "text": [
      "[96.8177295225769, 99.68073201588466]\n"
     ]
    }
   ],
   "source": [
    "confidence_interval = std*1.96/1\n",
    "\n",
    "normal_temp = [mean - confidence_interval, mean + confidence_interval]\n",
    "\n",
    "print(normal_temp)\n"
   ]
  },
  {
   "cell_type": "markdown",
   "metadata": {},
   "source": [
    " Any temperature outside the range 96.82F ~ 99.68F should be considered abnormal."
   ]
  },
  {
   "cell_type": "markdown",
   "metadata": {},
   "source": [
    "## 6. Is there a significant difference between males and females in normal temperature?\n"
   ]
  },
  {
   "cell_type": "code",
   "execution_count": 35,
   "metadata": {},
   "outputs": [
    {
     "name": "stdout",
     "output_type": "stream",
     "text": [
      "98.1046153846154 98.39384615384613\n"
     ]
    }
   ],
   "source": [
    "male = df[df['gender'] == 'M']['temperature']\n",
    "female = df[df['gender'] == 'F']['temperature']\n",
    "\n",
    "mean_diff = np.abs(np.mean(male) - np.mean(female))"
   ]
  },
  {
   "cell_type": "markdown",
   "metadata": {},
   "source": [
    "H0: There is no difference between genders in body temperature.\n",
    "\n",
    "Ha: Females and males have different body temperature."
   ]
  },
  {
   "cell_type": "code",
   "execution_count": 27,
   "metadata": {},
   "outputs": [
    {
     "name": "stdout",
     "output_type": "stream",
     "text": [
      "P-value: 0.0271\n"
     ]
    }
   ],
   "source": [
    "permutation_replicates = np.empty(10000)\n",
    "\n",
    "for i in range(len(permutation_replicates)): \n",
    "\n",
    "    permu_sample = np.random.permutation(np.concatenate((male, female)))\n",
    "    \n",
    "    male_permu = permu_sample[:len(male)]\n",
    "    female_permu = permu_sample[len(male):]\n",
    "    \n",
    "    permutation_replicates[i] = np.abs(np.mean(male_permu) - np.mean(female_permu))\n",
    "\n",
    "p = sum(permutation_replicates > mean_diff)/len(permutation_replicates)\n",
    "\n",
    "print('P-value: ' + str(p))\n",
    "    "
   ]
  },
  {
   "cell_type": "markdown",
   "metadata": {},
   "source": [
    "Since P-value is smaller than 0.05, statistically, we should reject the hypothesis that there's no difference between genders in temperature.  \n",
    "\n",
    "We can conclude that there is a significant difference between males and females in normal temperature."
   ]
  }
 ],
 "metadata": {
  "kernelspec": {
   "display_name": "Python 3",
   "language": "python",
   "name": "python3"
  },
  "language_info": {
   "codemirror_mode": {
    "name": "ipython",
    "version": 3
   },
   "file_extension": ".py",
   "mimetype": "text/x-python",
   "name": "python",
   "nbconvert_exporter": "python",
   "pygments_lexer": "ipython3",
   "version": "3.7.1"
  }
 },
 "nbformat": 4,
 "nbformat_minor": 1
}
